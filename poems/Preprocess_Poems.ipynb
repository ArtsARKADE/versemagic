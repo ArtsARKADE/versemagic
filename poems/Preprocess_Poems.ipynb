{
  "nbformat": 4,
  "nbformat_minor": 0,
  "metadata": {
    "colab": {
      "provenance": [],
      "authorship_tag": "ABX9TyM7cGRegLC+sJJ+GOvqe0z9",
      "include_colab_link": true
    },
    "kernelspec": {
      "name": "python3",
      "display_name": "Python 3"
    },
    "language_info": {
      "name": "python"
    }
  },
  "cells": [
    {
      "cell_type": "markdown",
      "metadata": {
        "id": "view-in-github",
        "colab_type": "text"
      },
      "source": [
        "<a href=\"https://colab.research.google.com/github/ArtsARKADE/versemagic/blob/main/poems/Preprocess_Poems.ipynb\" target=\"_parent\"><img src=\"https://colab.research.google.com/assets/colab-badge.svg\" alt=\"Open In Colab\"/></a>"
      ]
    },
    {
      "cell_type": "code",
      "execution_count": null,
      "metadata": {
        "id": "IhCV2fzXBhmL"
      },
      "outputs": [],
      "source": [
        "import os\n",
        "import re\n",
        "import datetime\n",
        "import ipywidgets as widgets\n",
        "from IPython.display import display, clear_output\n",
        "\n",
        "def preprocess_poem_files(input_dir):\n",
        "    # Create output directory with timestamp\n",
        "    timestamp = datetime.datetime.now().strftime(\"%Y-%m-%d_%H-%M-%S\")\n",
        "    output_dir = os.path.join(input_dir, f\"cleaned_up_poems_{timestamp}\")\n",
        "    os.makedirs(output_dir, exist_ok=True)\n",
        "\n",
        "    # Iterate over the main directory and all subdirectories\n",
        "    for root, dirs, files in os.walk(input_dir):\n",
        "        for file in files:\n",
        "            if file.endswith('.txt'):\n",
        "                input_path = os.path.join(root, file)\n",
        "                relative_path = os.path.relpath(input_path, input_dir)\n",
        "                output_path = os.path.join(output_dir, relative_path)\n",
        "                output_subdir = os.path.dirname(output_path)\n",
        "                os.makedirs(output_subdir, exist_ok=True)\n",
        "\n",
        "                try:\n",
        "                    with open(input_path, 'r', encoding='utf-8') as f:\n",
        "                        content = f.read()\n",
        "                except UnicodeDecodeError:\n",
        "                    try:\n",
        "                        with open(input_path, 'r', encoding='ISO-8859-1') as f:\n",
        "                            content = f.read()\n",
        "                    except Exception as e:\n",
        "                        print(f\"Failed to read {file} with ISO-8859-1: {e}\")\n",
        "                        continue\n",
        "\n",
        "                # Extract the title, name, and poem text\n",
        "                name_match = re.search(r'^(.*?)(?:\\n|$)', content)\n",
        "                title_match = re.search(r'\\n(?:.*\\n)?(.*?)\\n(?:\\n|[^\\n]*?)\\n', content)\n",
        "                poem_text_match = re.search(r'\\n\\n(.*?)\\n*$', content, re.DOTALL)\n",
        "\n",
        "                name = name_match.group(1).strip() if name_match else \"Unknown Name\"\n",
        "                title = title_match.group(1).strip() if title_match else \"Unknown Title\"\n",
        "                poem_text = poem_text_match.group(1).strip() if poem_text_match else \"No poem text found\"\n",
        "\n",
        "                # Debugging statement to check if poem_text is found\n",
        "                if poem_text and poem_text != \"No poem text found\":\n",
        "                    print(f\"Poem text found in file {file}\")\n",
        "                else:\n",
        "                    print(f\"No poem text found in file {file}\")\n",
        "                    poem_text = \"No poem text found\"\n",
        "\n",
        "                # Write the cleaned content to the output directory\n",
        "                with open(output_path, 'w', encoding='utf-8') as f:\n",
        "                    f.write(f\"Name: {name}\\n\")\n",
        "                    f.write(f\"Title: {title}\\n\")\n",
        "                    f.write(f\"<poem>\\n{poem_text}\\n</poem>\")\n",
        "\n",
        "                print(f\"Processed and saved {file} to {output_path}\")\n",
        "\n",
        "# UI Components for Directory Selection\n",
        "input_dir_widget = widgets.Textarea(description=\"Input Directory:\", layout={'width': '500px', 'height': '50px'})\n",
        "preprocess_button = widgets.Button(description=\"Preprocess Poems\")\n",
        "\n",
        "def on_preprocess_button_clicked(b):\n",
        "    input_dir = input_dir_widget.value\n",
        "    if input_dir:\n",
        "        preprocess_poem_files(input_dir)\n",
        "    else:\n",
        "        print(\"Please provide an input directory.\")\n",
        "\n",
        "preprocess_button.on_click(on_preprocess_button_clicked)\n",
        "\n",
        "# Layout and Display for Preprocessing UI\n",
        "preprocess_ui = widgets.VBox([\n",
        "    input_dir_widget,\n",
        "    preprocess_button\n",
        "])\n",
        "\n",
        "display(preprocess_ui)"
      ]
    }
  ]
}